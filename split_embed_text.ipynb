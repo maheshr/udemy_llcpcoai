{
 "cells": [
  {
   "cell_type": "markdown",
   "id": "0f30b991-9db7-4fde-9cc9-d7288c9bb0c5",
   "metadata": {},
   "source": [
    "## Splitting and Embedding Text Using LangChain"
   ]
  },
  {
   "cell_type": "code",
   "execution_count": 4,
   "id": "387c93e5-27aa-4dad-8e4a-e3980855546d",
   "metadata": {},
   "outputs": [
    {
     "data": {
      "text/plain": [
       "True"
      ]
     },
     "execution_count": 4,
     "metadata": {},
     "output_type": "execute_result"
    }
   ],
   "source": [
    "# load environment for OpenAI and Pinecone config\n",
    "import os\n",
    "from dotenv import load_dotenv, find_dotenv\n",
    "load_dotenv(find_dotenv(), override=True)"
   ]
  },
  {
   "cell_type": "code",
   "execution_count": 2,
   "id": "03123417-438e-4586-affa-b20a3efd4b84",
   "metadata": {},
   "outputs": [],
   "source": [
    "from langchain.text_splitter import RecursiveCharacterTextSplitter\n",
    "\n",
    "with open('files/churchill_speech.txt') as f:\n",
    "    churchill_speech = f.read()\n",
    "\n",
    "text_splitter = RecursiveCharacterTextSplitter(\n",
    "    chunk_size=100,\n",
    "    chunk_overlap=20,\n",
    "    length_function=len\n",
    ")"
   ]
  },
  {
   "cell_type": "code",
   "execution_count": 3,
   "id": "29b37055-f0a3-4a99-a3c5-0c84da235004",
   "metadata": {},
   "outputs": [],
   "source": [
    "chunks = text_splitter.create_documents([churchill_speech])"
   ]
  },
  {
   "cell_type": "markdown",
   "id": "0745b796-c78c-48e4-97d8-5c0ba9959990",
   "metadata": {},
   "source": [
    "#### Embedding Cost"
   ]
  },
  {
   "cell_type": "code",
   "execution_count": 9,
   "id": "d377640d-264e-4be1-a3ba-c5850f20a23c",
   "metadata": {},
   "outputs": [
    {
     "name": "stdout",
     "output_type": "stream",
     "text": [
      "Total Tokens: 4820\n",
      "Embedding Cost in USD: 0.001928\n"
     ]
    }
   ],
   "source": [
    "def print_embedding_cost(texts):\n",
    "    import tiktoken\n",
    "    enc = tiktoken.encoding_for_model('text-embedding-ada-002')\n",
    "    total_tokens = sum([len(enc.encode(page.page_content)) for page in texts])\n",
    "    print(f'Total Tokens: {total_tokens}')\n",
    "    print(f'Embedding Cost in USD: {total_tokens / 1000 * 0.0004:.6f}')\n",
    "\n",
    "print_embedding_cost(chunks)"
   ]
  },
  {
   "cell_type": "code",
   "execution_count": 10,
   "id": "fa611012-0424-41bf-9995-00ed79762cee",
   "metadata": {},
   "outputs": [],
   "source": [
    "from langchain.embeddings import OpenAIEmbeddings\n",
    "embedding = OpenAIEmbeddings()"
   ]
  },
  {
   "cell_type": "code",
   "execution_count": 15,
   "id": "0cf2ab15-ec59-4924-96db-3ee95cc010f0",
   "metadata": {},
   "outputs": [],
   "source": [
    "vector = embedding.embed_query(chunks[0].page_content)"
   ]
  },
  {
   "cell_type": "markdown",
   "id": "e4283931-dff1-48ba-8684-abd5b4617944",
   "metadata": {},
   "source": [
    "#### Inserting the Embeddings into a Pinecone index"
   ]
  },
  {
   "cell_type": "code",
   "execution_count": 10,
   "id": "11c0dce3-1a9e-460f-aab7-eaf8259833af",
   "metadata": {},
   "outputs": [],
   "source": [
    "import os\n",
    "import pinecone\n",
    "from langchain.vectorstores import Pinecone\n",
    "\n",
    "pinecone.init(api_key=os.environ.get('PINECONE_API_KEY'), environment=os.environ.get('PINECONE_ENV'))\n"
   ]
  },
  {
   "cell_type": "code",
   "execution_count": 12,
   "id": "de387003-7619-4240-b298-b38ba396f19d",
   "metadata": {},
   "outputs": [],
   "source": [
    "# delete all indexes\n",
    "indexes = pinecone.list_indexes()\n",
    "for i in indexes:\n",
    "    print('Deleting all indexes...', end='')\n",
    "    pinecone.delete_index(i)"
   ]
  },
  {
   "cell_type": "code",
   "execution_count": 14,
   "id": "8f71c1dd-527c-4783-b18b-69072f86ab25",
   "metadata": {},
   "outputs": [],
   "source": [
    "index_name = 'churchhill-speech'\n",
    "if index_name not in pinecone.list_indexes():\n",
    "    print(f'Creating index {index_name}...')\n",
    "    pinecone.create_index(index_name, dimension=1536, metric='cosine')\n",
    "    print('Done!')"
   ]
  },
  {
   "cell_type": "code",
   "execution_count": null,
   "id": "6e11aa4e-053c-438f-bcfa-be99c9218954",
   "metadata": {},
   "outputs": [],
   "source": []
  }
 ],
 "metadata": {
  "kernelspec": {
   "display_name": "Python 3 (ipykernel)",
   "language": "python",
   "name": "python3"
  },
  "language_info": {
   "codemirror_mode": {
    "name": "ipython",
    "version": 3
   },
   "file_extension": ".py",
   "mimetype": "text/x-python",
   "name": "python",
   "nbconvert_exporter": "python",
   "pygments_lexer": "ipython3",
   "version": "3.10.13"
  }
 },
 "nbformat": 4,
 "nbformat_minor": 5
}
