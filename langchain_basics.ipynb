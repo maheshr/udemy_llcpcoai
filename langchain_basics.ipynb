{
 "cells": [
  {
   "cell_type": "markdown",
   "id": "fa3874d5-aca3-4f3b-b130-091aa93d0380",
   "metadata": {},
   "source": [
    "# LangChain Basics"
   ]
  },
  {
   "cell_type": "code",
   "execution_count": 6,
   "id": "163056de-d49b-426d-9351-95402c77343b",
   "metadata": {},
   "outputs": [
    {
     "name": "stdout",
     "output_type": "stream",
     "text": [
      "Requirement already satisfied: openai<1 in c:\\users\\mramchandani\\.conda\\envs\\stbook\\lib\\site-packages (from -r requirements.txt (line 1)) (0.28.1)\n",
      "Requirement already satisfied: langchain in c:\\users\\mramchandani\\.conda\\envs\\stbook\\lib\\site-packages (from -r requirements.txt (line 2)) (0.0.335)\n",
      "Requirement already satisfied: pinecone-client in c:\\users\\mramchandani\\.conda\\envs\\stbook\\lib\\site-packages (from -r requirements.txt (line 3)) (2.2.4)\n",
      "Requirement already satisfied: python-dotenv in c:\\users\\mramchandani\\.conda\\envs\\stbook\\lib\\site-packages (from -r requirements.txt (line 4)) (1.0.0)\n",
      "Requirement already satisfied: tiktoken in c:\\users\\mramchandani\\.conda\\envs\\stbook\\lib\\site-packages (from -r requirements.txt (line 5)) (0.5.1)\n",
      "Requirement already satisfied: requests>=2.20 in c:\\users\\mramchandani\\.conda\\envs\\stbook\\lib\\site-packages (from openai<1->-r requirements.txt (line 1)) (2.31.0)\n",
      "Requirement already satisfied: tqdm in c:\\users\\mramchandani\\.conda\\envs\\stbook\\lib\\site-packages (from openai<1->-r requirements.txt (line 1)) (4.66.1)\n",
      "Requirement already satisfied: aiohttp in c:\\users\\mramchandani\\.conda\\envs\\stbook\\lib\\site-packages (from openai<1->-r requirements.txt (line 1)) (3.8.6)\n",
      "Requirement already satisfied: PyYAML>=5.3 in c:\\users\\mramchandani\\.conda\\envs\\stbook\\lib\\site-packages (from langchain->-r requirements.txt (line 2)) (6.0.1)\n",
      "Requirement already satisfied: SQLAlchemy<3,>=1.4 in c:\\users\\mramchandani\\.conda\\envs\\stbook\\lib\\site-packages (from langchain->-r requirements.txt (line 2)) (2.0.23)\n",
      "Requirement already satisfied: anyio<4.0 in c:\\users\\mramchandani\\.conda\\envs\\stbook\\lib\\site-packages (from langchain->-r requirements.txt (line 2)) (3.7.1)\n",
      "Requirement already satisfied: async-timeout<5.0.0,>=4.0.0 in c:\\users\\mramchandani\\.conda\\envs\\stbook\\lib\\site-packages (from langchain->-r requirements.txt (line 2)) (4.0.3)\n",
      "Requirement already satisfied: dataclasses-json<0.7,>=0.5.7 in c:\\users\\mramchandani\\.conda\\envs\\stbook\\lib\\site-packages (from langchain->-r requirements.txt (line 2)) (0.6.2)\n",
      "Requirement already satisfied: jsonpatch<2.0,>=1.33 in c:\\users\\mramchandani\\.conda\\envs\\stbook\\lib\\site-packages (from langchain->-r requirements.txt (line 2)) (1.33)\n",
      "Requirement already satisfied: langsmith<0.1.0,>=0.0.63 in c:\\users\\mramchandani\\.conda\\envs\\stbook\\lib\\site-packages (from langchain->-r requirements.txt (line 2)) (0.0.63)\n",
      "Requirement already satisfied: numpy<2,>=1 in c:\\users\\mramchandani\\.conda\\envs\\stbook\\lib\\site-packages (from langchain->-r requirements.txt (line 2)) (1.26.0)\n",
      "Requirement already satisfied: pydantic<3,>=1 in c:\\users\\mramchandani\\.conda\\envs\\stbook\\lib\\site-packages (from langchain->-r requirements.txt (line 2)) (2.4.2)\n",
      "Requirement already satisfied: tenacity<9.0.0,>=8.1.0 in c:\\users\\mramchandani\\.conda\\envs\\stbook\\lib\\site-packages (from langchain->-r requirements.txt (line 2)) (8.2.3)\n",
      "Requirement already satisfied: loguru>=0.5.0 in c:\\users\\mramchandani\\.conda\\envs\\stbook\\lib\\site-packages (from pinecone-client->-r requirements.txt (line 3)) (0.7.2)\n",
      "Requirement already satisfied: typing-extensions>=3.7.4 in c:\\users\\mramchandani\\.conda\\envs\\stbook\\lib\\site-packages (from pinecone-client->-r requirements.txt (line 3)) (4.8.0)\n",
      "Requirement already satisfied: dnspython>=2.0.0 in c:\\users\\mramchandani\\.conda\\envs\\stbook\\lib\\site-packages (from pinecone-client->-r requirements.txt (line 3)) (2.4.2)\n",
      "Requirement already satisfied: python-dateutil>=2.5.3 in c:\\users\\mramchandani\\.conda\\envs\\stbook\\lib\\site-packages (from pinecone-client->-r requirements.txt (line 3)) (2.8.2)\n",
      "Requirement already satisfied: urllib3>=1.21.1 in c:\\users\\mramchandani\\.conda\\envs\\stbook\\lib\\site-packages (from pinecone-client->-r requirements.txt (line 3)) (2.0.7)\n",
      "Requirement already satisfied: regex>=2022.1.18 in c:\\users\\mramchandani\\.conda\\envs\\stbook\\lib\\site-packages (from tiktoken->-r requirements.txt (line 5)) (2023.10.3)\n",
      "Requirement already satisfied: attrs>=17.3.0 in c:\\users\\mramchandani\\.conda\\envs\\stbook\\lib\\site-packages (from aiohttp->openai<1->-r requirements.txt (line 1)) (23.1.0)\n",
      "Requirement already satisfied: charset-normalizer<4.0,>=2.0 in c:\\users\\mramchandani\\.conda\\envs\\stbook\\lib\\site-packages (from aiohttp->openai<1->-r requirements.txt (line 1)) (3.3.2)\n",
      "Requirement already satisfied: multidict<7.0,>=4.5 in c:\\users\\mramchandani\\.conda\\envs\\stbook\\lib\\site-packages (from aiohttp->openai<1->-r requirements.txt (line 1)) (6.0.4)\n",
      "Requirement already satisfied: yarl<2.0,>=1.0 in c:\\users\\mramchandani\\.conda\\envs\\stbook\\lib\\site-packages (from aiohttp->openai<1->-r requirements.txt (line 1)) (1.9.2)\n",
      "Requirement already satisfied: frozenlist>=1.1.1 in c:\\users\\mramchandani\\.conda\\envs\\stbook\\lib\\site-packages (from aiohttp->openai<1->-r requirements.txt (line 1)) (1.4.0)\n",
      "Requirement already satisfied: aiosignal>=1.1.2 in c:\\users\\mramchandani\\.conda\\envs\\stbook\\lib\\site-packages (from aiohttp->openai<1->-r requirements.txt (line 1)) (1.3.1)\n",
      "Requirement already satisfied: idna>=2.8 in c:\\users\\mramchandani\\.conda\\envs\\stbook\\lib\\site-packages (from anyio<4.0->langchain->-r requirements.txt (line 2)) (3.4)\n",
      "Requirement already satisfied: sniffio>=1.1 in c:\\users\\mramchandani\\.conda\\envs\\stbook\\lib\\site-packages (from anyio<4.0->langchain->-r requirements.txt (line 2)) (1.3.0)\n",
      "Requirement already satisfied: exceptiongroup in c:\\users\\mramchandani\\.conda\\envs\\stbook\\lib\\site-packages (from anyio<4.0->langchain->-r requirements.txt (line 2)) (1.1.3)\n",
      "Requirement already satisfied: marshmallow<4.0.0,>=3.18.0 in c:\\users\\mramchandani\\.conda\\envs\\stbook\\lib\\site-packages (from dataclasses-json<0.7,>=0.5.7->langchain->-r requirements.txt (line 2)) (3.20.1)\n",
      "Requirement already satisfied: typing-inspect<1,>=0.4.0 in c:\\users\\mramchandani\\.conda\\envs\\stbook\\lib\\site-packages (from dataclasses-json<0.7,>=0.5.7->langchain->-r requirements.txt (line 2)) (0.9.0)\n",
      "Requirement already satisfied: jsonpointer>=1.9 in c:\\users\\mramchandani\\.conda\\envs\\stbook\\lib\\site-packages (from jsonpatch<2.0,>=1.33->langchain->-r requirements.txt (line 2)) (2.4)\n",
      "Requirement already satisfied: colorama>=0.3.4 in c:\\users\\mramchandani\\.conda\\envs\\stbook\\lib\\site-packages (from loguru>=0.5.0->pinecone-client->-r requirements.txt (line 3)) (0.4.6)\n",
      "Requirement already satisfied: win32-setctime>=1.0.0 in c:\\users\\mramchandani\\.conda\\envs\\stbook\\lib\\site-packages (from loguru>=0.5.0->pinecone-client->-r requirements.txt (line 3)) (1.1.0)\n",
      "Requirement already satisfied: annotated-types>=0.4.0 in c:\\users\\mramchandani\\.conda\\envs\\stbook\\lib\\site-packages (from pydantic<3,>=1->langchain->-r requirements.txt (line 2)) (0.6.0)\n",
      "Requirement already satisfied: pydantic-core==2.10.1 in c:\\users\\mramchandani\\.conda\\envs\\stbook\\lib\\site-packages (from pydantic<3,>=1->langchain->-r requirements.txt (line 2)) (2.10.1)\n",
      "Requirement already satisfied: six>=1.5 in c:\\users\\mramchandani\\.conda\\envs\\stbook\\lib\\site-packages (from python-dateutil>=2.5.3->pinecone-client->-r requirements.txt (line 3)) (1.16.0)\n",
      "Requirement already satisfied: certifi>=2017.4.17 in c:\\users\\mramchandani\\.conda\\envs\\stbook\\lib\\site-packages (from requests>=2.20->openai<1->-r requirements.txt (line 1)) (2023.7.22)\n",
      "Requirement already satisfied: greenlet!=0.4.17 in c:\\users\\mramchandani\\.conda\\envs\\stbook\\lib\\site-packages (from SQLAlchemy<3,>=1.4->langchain->-r requirements.txt (line 2)) (3.0.1)\n",
      "Requirement already satisfied: packaging>=17.0 in c:\\users\\mramchandani\\.conda\\envs\\stbook\\lib\\site-packages (from marshmallow<4.0.0,>=3.18.0->dataclasses-json<0.7,>=0.5.7->langchain->-r requirements.txt (line 2)) (23.2)\n",
      "Requirement already satisfied: mypy-extensions>=0.3.0 in c:\\users\\mramchandani\\.conda\\envs\\stbook\\lib\\site-packages (from typing-inspect<1,>=0.4.0->dataclasses-json<0.7,>=0.5.7->langchain->-r requirements.txt (line 2)) (1.0.0)\n",
      "Note: you may need to restart the kernel to use updated packages.\n"
     ]
    }
   ],
   "source": [
    "pip install -r requirements.txt"
   ]
  },
  {
   "cell_type": "code",
   "execution_count": 7,
   "id": "007da2b6-9cc7-4a68-8068-f13e234b94e0",
   "metadata": {},
   "outputs": [
    {
     "name": "stdout",
     "output_type": "stream",
     "text": [
      "Name: langchainNote: you may need to restart the kernel to use updated packages.\n",
      "\n",
      "Version: 0.0.335\n",
      "Summary: Building applications with LLMs through composability\n",
      "Home-page: https://github.com/langchain-ai/langchain\n",
      "Author: \n",
      "Author-email: \n",
      "License: MIT\n",
      "Location: c:\\users\\mramchandani\\.conda\\envs\\stbook\\lib\\site-packages\n",
      "Requires: aiohttp, anyio, async-timeout, dataclasses-json, jsonpatch, langsmith, numpy, pydantic, PyYAML, requests, SQLAlchemy, tenacity\n",
      "Required-by: \n"
     ]
    }
   ],
   "source": [
    "pip show langchain"
   ]
  },
  {
   "cell_type": "code",
   "execution_count": 3,
   "id": "c5c67931-ca97-4ca1-b3bc-f20331049dc5",
   "metadata": {},
   "outputs": [
    {
     "name": "stdout",
     "output_type": "stream",
     "text": [
      "openai<1\n",
      "langchain\n",
      "pinecone-client\n",
      "python-dotenv\n",
      "tiktoken\n"
     ]
    }
   ],
   "source": [
    "!more requirements.txt"
   ]
  },
  {
   "cell_type": "markdown",
   "id": "bbc7aba4-66f0-44bf-b5bb-1c941f81f115",
   "metadata": {},
   "source": [
    "### Python-dotenv"
   ]
  },
  {
   "cell_type": "code",
   "execution_count": 3,
   "id": "818e43d1-7076-428e-9f0d-06ce1247e5ae",
   "metadata": {},
   "outputs": [],
   "source": [
    "import os\n",
    "from dotenv import load_dotenv, find_dotenv"
   ]
  },
  {
   "cell_type": "code",
   "execution_count": 4,
   "id": "f190059f-dc42-4df4-b7ec-6d0b2596df45",
   "metadata": {},
   "outputs": [
    {
     "data": {
      "text/plain": [
       "True"
      ]
     },
     "execution_count": 4,
     "metadata": {},
     "output_type": "execute_result"
    }
   ],
   "source": [
    "load_dotenv(find_dotenv(), override=True)"
   ]
  },
  {
   "cell_type": "markdown",
   "id": "ecfeaa1d-96b8-4b3b-adca-f09d1934240c",
   "metadata": {},
   "source": [
    "## LLM Models (Wrappers): GPT-3"
   ]
  },
  {
   "cell_type": "code",
   "execution_count": 17,
   "id": "e912f6c6-f402-4376-aaeb-a76406588c72",
   "metadata": {},
   "outputs": [
    {
     "name": "stdout",
     "output_type": "stream",
     "text": [
      "\u001b[1mOpenAI\u001b[0m\n",
      "Params: {'model_name': 'text-davinci-003', 'temperature': 0.7, 'top_p': 1, 'frequency_penalty': 0, 'presence_penalty': 0, 'n': 1, 'logit_bias': {}, 'max_tokens': 512}\n"
     ]
    }
   ],
   "source": [
    "from langchain.llms import OpenAI\n",
    "llm = OpenAI(model_name='text-davinci-003', temperature=0.7, max_tokens=512)\n",
    "print(llm)"
   ]
  },
  {
   "cell_type": "code",
   "execution_count": 20,
   "id": "e5ad6836-94d8-42ef-b097-c02cea9a055e",
   "metadata": {},
   "outputs": [
    {
     "name": "stdout",
     "output_type": "stream",
     "text": [
      "\n",
      "\n",
      "Quantum mechanics is a physical theory describing the behavior of matter and energy at the atomic and subatomic level.\n"
     ]
    }
   ],
   "source": [
    "prompt='Explain quantum mechanics in one sentence'\n",
    "output = llm(prompt)\n",
    "print(output)"
   ]
  },
  {
   "cell_type": "code",
   "execution_count": 22,
   "id": "22e68618-3be2-431e-8262-ff151896d1a5",
   "metadata": {},
   "outputs": [
    {
     "name": "stdout",
     "output_type": "stream",
     "text": [
      "7\n"
     ]
    }
   ],
   "source": [
    "print(llm.get_num_tokens(prompt))"
   ]
  },
  {
   "cell_type": "code",
   "execution_count": 29,
   "id": "eab3a819-c9c7-4b3c-9caa-42c8e97af721",
   "metadata": {},
   "outputs": [
    {
     "name": "stdout",
     "output_type": "stream",
     "text": [
      "['\\n\\nParis.', '\\n\\nArea of a circle = π * r2, where r is the radius of the circle.']\n"
     ]
    }
   ],
   "source": [
    "output = llm.generate(['... is the capital of France.', 'What is the formula for the area of a circle?'])\n",
    "print([x[0].text for x in output.generations])"
   ]
  },
  {
   "cell_type": "code",
   "execution_count": 30,
   "id": "1fcb1105-3d0b-44e8-924b-2f30f252f0a2",
   "metadata": {},
   "outputs": [
    {
     "name": "stdout",
     "output_type": "stream",
     "text": [
      "2\n"
     ]
    }
   ],
   "source": [
    "print(len(output.generations))"
   ]
  },
  {
   "cell_type": "code",
   "execution_count": 36,
   "id": "83d90c48-3ba8-4811-bf3b-b961f6871c19",
   "metadata": {},
   "outputs": [],
   "source": [
    "output = llm.generate([\"Write an original tagline for a burger restaurant\"] * 3)"
   ]
  },
  {
   "cell_type": "code",
   "execution_count": 37,
   "id": "bcc2daa4-0ce3-4149-a875-3e808df344af",
   "metadata": {},
   "outputs": [
    {
     "data": {
      "text/plain": [
       "[[Generation(text='\\n\\n\"Taste the Juiciness of Our Burgers - We Serve Fresh Flavor!\"', generation_info={'finish_reason': 'stop', 'logprobs': None})],\n",
       " [Generation(text='\\n\\n\"Taste the Difference - Delicious Burgers at Our Place!\"', generation_info={'finish_reason': 'stop', 'logprobs': None})],\n",
       " [Generation(text='\\n\\n\"A Burger So Good, You\\'ll Think It\\'s Magic!\"', generation_info={'finish_reason': 'stop', 'logprobs': None})]]"
      ]
     },
     "execution_count": 37,
     "metadata": {},
     "output_type": "execute_result"
    }
   ],
   "source": [
    "output.generations"
   ]
  },
  {
   "cell_type": "markdown",
   "id": "992735b8-d27e-4009-bf4c-c6944f2af7a2",
   "metadata": {},
   "source": [
    "## ChatModels: GPT-3.5-Turbo and GPT-4"
   ]
  },
  {
   "cell_type": "code",
   "execution_count": 38,
   "id": "211a2606-b334-4758-9e57-c728ef19d53a",
   "metadata": {},
   "outputs": [],
   "source": [
    "from langchain.schema import AIMessage, HumanMessage, SystemMessage\n",
    "from langchain.chat_models import ChatOpenAI"
   ]
  },
  {
   "cell_type": "code",
   "execution_count": 41,
   "id": "62429d1e-2b64-4082-bcbc-667cc11c82ed",
   "metadata": {},
   "outputs": [],
   "source": [
    "chat = ChatOpenAI(model_name=\"gpt-3.5-turbo\", temperature=0.5, max_tokens=1024)\n",
    "messages = [\n",
    "    SystemMessage(content='You are a physicist and respond only in German.'),\n",
    "    HumanMessage(content=prompt),\n",
    "]"
   ]
  },
  {
   "cell_type": "code",
   "execution_count": 42,
   "id": "7d9bc24a-d030-46f5-a283-8558019683da",
   "metadata": {},
   "outputs": [],
   "source": [
    "output = chat(messages)"
   ]
  },
  {
   "cell_type": "code",
   "execution_count": 43,
   "id": "606f5703-dc40-41ae-98d6-2436a378236e",
   "metadata": {},
   "outputs": [
    {
     "data": {
      "text/plain": [
       "AIMessage(content='Quantenmechanik beschreibt das Verhalten von Teilchen auf subatomarer Ebene und ermöglicht es uns, ihre Eigenschaften und Zustände zu verstehen.')"
      ]
     },
     "execution_count": 43,
     "metadata": {},
     "output_type": "execute_result"
    }
   ],
   "source": [
    "output"
   ]
  },
  {
   "cell_type": "markdown",
   "id": "2bbc0231-f022-4c6e-be8f-803699ea705a",
   "metadata": {},
   "source": [
    "### Prompt Templates"
   ]
  },
  {
   "cell_type": "code",
   "execution_count": 44,
   "id": "19ae70af-9179-4c6d-9ac8-df5fdc8e4416",
   "metadata": {},
   "outputs": [],
   "source": [
    "from langchain import PromptTemplate"
   ]
  },
  {
   "cell_type": "code",
   "execution_count": 48,
   "id": "160d8cca-01c4-43ee-bb4b-d5bf868316b4",
   "metadata": {},
   "outputs": [
    {
     "name": "stdout",
     "output_type": "stream",
     "text": [
      "input_variables=['language', 'virus'] template='\\nYou are an experienced virologist. Write a few sentences about the following {virus} in {language}.\\n'\n"
     ]
    }
   ],
   "source": [
    "template = '''\n",
    "You are an experienced virologist. Write a few sentences about the following {virus} in {language}.\n",
    "'''\n",
    "prompt = PromptTemplate(\n",
    "    input_variables=['virus', 'language'],\n",
    "    template=template\n",
    ")\n",
    "print(prompt)"
   ]
  },
  {
   "cell_type": "code",
   "execution_count": 51,
   "id": "91d6b6d4-50c7-4aa5-9566-a537cb871620",
   "metadata": {},
   "outputs": [],
   "source": [
    "from langchain.llms import OpenAI\n",
    "llm = OpenAI(model_name='text-davinci-003', temperature=0.7)"
   ]
  },
  {
   "cell_type": "code",
   "execution_count": 54,
   "id": "30b5bab3-bd63-4902-8e73-c74fff908957",
   "metadata": {},
   "outputs": [],
   "source": [
    "output = llm(prompt.format(virus='ebola', language='english'))"
   ]
  },
  {
   "cell_type": "code",
   "execution_count": 55,
   "id": "d91c189b-9270-4edf-b227-01dc09f45020",
   "metadata": {},
   "outputs": [
    {
     "name": "stdout",
     "output_type": "stream",
     "text": [
      "\n",
      "Ebola is a highly contagious and often fatal virus that causes a severe hemorrhagic fever in humans and other primates. It is transmitted through direct contact with bodily fluids or contaminated objects. Symptoms of Ebola may include fever, headache, fatigue, muscle pain, sore throat, and abdominal pain. In some cases, patients may experience bleeding from the eyes, mouth, and nose. Treatment focuses on providing supportive care and addressing complications as they arise.\n"
     ]
    }
   ],
   "source": [
    "print(output)"
   ]
  },
  {
   "cell_type": "code",
   "execution_count": 56,
   "id": "2fb960b4-e741-4135-aae6-dbde45801523",
   "metadata": {},
   "outputs": [],
   "source": [
    "output = llm(prompt.format(virus='hiv', language='english'))"
   ]
  },
  {
   "cell_type": "code",
   "execution_count": 57,
   "id": "f37b846d-5ad5-4f32-bc9a-b6785965081d",
   "metadata": {},
   "outputs": [
    {
     "name": "stdout",
     "output_type": "stream",
     "text": [
      "\n",
      "Human Immunodeficiency Virus (HIV) is a retrovirus that causes Acquired Immunodeficiency Syndrome (AIDS). It is transmitted through contact with bodily fluids, such as through intercourse, blood transfusions, or sharing of needles. HIV attacks the body's immune system, leaving it unable to fight off other infections and diseases, leading to AIDS. There is currently no cure for HIV, but treatments exist which can slow down the virus' progression and enable people with HIV to live longer, healthier lives.\n"
     ]
    }
   ],
   "source": [
    "print(output)"
   ]
  },
  {
   "cell_type": "markdown",
   "id": "bd57dbd8-885e-4716-ac89-32f8634b8918",
   "metadata": {},
   "source": [
    "## Simple Chains"
   ]
  },
  {
   "cell_type": "code",
   "execution_count": 62,
   "id": "b3b8b146-675f-4273-ba42-dec9b9a2d44f",
   "metadata": {},
   "outputs": [],
   "source": [
    "from langchain.chat_models import ChatOpenAI\n",
    "from langchain import PromptTemplate\n",
    "from langchain.chains import LLMChain\n",
    "\n",
    "llm = ChatOpenAI(model_name='gpt-3.5-turbo', temperature=0.5)\n",
    "\n",
    "template = '''\n",
    "You are an experienced virologist. Write a few sentences about the following {virus} in {language}.\n",
    "'''\n",
    "prompt = PromptTemplate(\n",
    "    input_variables=['virus', 'language'],\n",
    "    template=template\n",
    ")\n",
    "\n",
    "chain = LLMChain(llm=llm, prompt=prompt)\n",
    "output = chain.run({'virus': 'HSV', 'language': 'english'})"
   ]
  },
  {
   "cell_type": "code",
   "execution_count": 63,
   "id": "40a7b255-a7b2-4758-8b33-4441932ce277",
   "metadata": {},
   "outputs": [
    {
     "name": "stdout",
     "output_type": "stream",
     "text": [
      "HSV, or herpes simplex virus, is a highly contagious virus that primarily affects humans. There are two types of HSV: HSV-1, which usually causes oral herpes, and HSV-2, which typically causes genital herpes. Both types can be transmitted through direct contact with infected individuals or through contact with their bodily fluids. HSV infections can cause painful blisters or sores on the skin, and the virus can remain dormant in the body, periodically reactivating and causing outbreaks. While there is no cure for HSV, antiviral medications can help manage symptoms and reduce the frequency of outbreaks.\n"
     ]
    }
   ],
   "source": [
    "print(output)"
   ]
  },
  {
   "cell_type": "markdown",
   "id": "7ee0d6e1-d336-4560-ad3b-fdd0b57f6fa5",
   "metadata": {},
   "source": [
    "## Sequential Chains"
   ]
  },
  {
   "cell_type": "code",
   "execution_count": 73,
   "id": "9cfef74e-c10d-419c-b4e1-6fbb28ad8486",
   "metadata": {},
   "outputs": [
    {
     "name": "stdout",
     "output_type": "stream",
     "text": [
      "\n",
      "\n",
      "\u001b[1m> Entering new SimpleSequentialChain chain...\u001b[0m\n",
      "\u001b[36;1m\u001b[1;3m\n",
      "\n",
      "def softmax(x):\n",
      "    \"\"\"Compute softmax values for each sets of scores in x.\"\"\"\n",
      "    return np.exp(x) / np.sum(np.exp(x), axis=0)\u001b[0m\n",
      "\u001b[33;1m\u001b[1;3mThe function named `softmax(x)` takes in a one-dimensional array `x` as input.\n",
      "\n",
      "`np.exp(x)` calculates the exponential of each element in the array `x`.\n",
      "\n",
      "`np.sum(np.exp(x), axis=0)` computes the sum of all elements of the exponential of array `x` along axis 0.\n",
      "\n",
      "Finally, the function returns the result of dividing the exponential of array `x` by the sum of exponential values, giving a normalized array. The normalized array represents the softmax values of the original input array `x`.\u001b[0m\n",
      "\n",
      "\u001b[1m> Finished chain.\u001b[0m\n"
     ]
    }
   ],
   "source": [
    "from langchain.chat_models import ChatOpenAI\n",
    "from langchain.llms import OpenAI\n",
    "from langchain import PromptTemplate\n",
    "from langchain.chains import LLMChain, SimpleSequentialChain\n",
    "\n",
    "llm1 = OpenAI(model_name='text-davinci-003', temperature=0.7, max_tokens=1024)\n",
    "prompt1 = PromptTemplate(\n",
    "    input_variables=['concept'],\n",
    "    template='''You are an experienced scientist and Python programmer. Write a function that implments the concept of {concept}'''\n",
    ")\n",
    "\n",
    "chain1 = LLMChain(llm=llm1, prompt=prompt1)\n",
    "\n",
    "llm2 = ChatOpenAI(model_name='gpt-3.5-turbo', temperature=1.2)\n",
    "prompt2 = PromptTemplate(\n",
    "    input_variables=['function'],\n",
    "    template='''Given the Python function {function}, describe it as detailed as possible'''\n",
    ")\n",
    "\n",
    "chain2 = LLMChain(llm=llm2, prompt=prompt2)\n",
    "\n",
    "overall_chain = SimpleSequentialChain(chains=[chain1, chain2], verbose=True)\n",
    "\n",
    "output = overall_chain.run('softmax')"
   ]
  },
  {
   "cell_type": "code",
   "execution_count": 74,
   "id": "282758f4-e938-4fe7-b095-7940060cd4f4",
   "metadata": {},
   "outputs": [
    {
     "name": "stdout",
     "output_type": "stream",
     "text": [
      "Note: you may need to restart the kernel to use updated packages.\n"
     ]
    }
   ],
   "source": [
    "pip install langchain_experimental -q"
   ]
  },
  {
   "cell_type": "code",
   "execution_count": 5,
   "id": "05748562-2d31-41fa-96d4-128a6dec0888",
   "metadata": {},
   "outputs": [],
   "source": [
    "from langchain_experimental.agents.agent_toolkits import create_python_agent\n",
    "from langchain_experimental.tools.python.tool import PythonREPLTool\n",
    "from langchain.llms import OpenAI"
   ]
  },
  {
   "cell_type": "code",
   "execution_count": 9,
   "id": "137deff1-6c2e-41d2-be9f-db5d9a23bc7a",
   "metadata": {},
   "outputs": [
    {
     "name": "stdout",
     "output_type": "stream",
     "text": [
      "\n",
      "\n",
      "\u001b[1m> Entering new AgentExecutor chain...\u001b[0m\n"
     ]
    },
    {
     "name": "stderr",
     "output_type": "stream",
     "text": [
      "Python REPL can execute arbitrary code. Use with caution.\n"
     ]
    },
    {
     "name": "stdout",
     "output_type": "stream",
     "text": [
      "\u001b[32;1m\u001b[1;3m I need to calculate the factorial of 20 and then take the square root of that\n",
      "Action: Python_REPL\n",
      "Action Input: from math import factorial; print(round(factorial(20)**0.5, 4))\u001b[0m\n",
      "Observation: \u001b[36;1m\u001b[1;3m1559776268.6285\n",
      "\u001b[0m\n",
      "Thought:\u001b[32;1m\u001b[1;3m I now know the final answer\n",
      "Final Answer: 1559776268.6285\u001b[0m\n",
      "\n",
      "\u001b[1m> Finished chain.\u001b[0m\n"
     ]
    },
    {
     "data": {
      "text/plain": [
       "'1559776268.6285'"
      ]
     },
     "execution_count": 9,
     "metadata": {},
     "output_type": "execute_result"
    }
   ],
   "source": [
    "llm = OpenAI(temperature=0)\n",
    "agent_executor = create_python_agent(llm=llm, tool=PythonREPLTool(), verbose=True)\n",
    "agent_executor.run('Calculate the square root of the factorial of 20 and display it with 4 decimal points')"
   ]
  },
  {
   "cell_type": "code",
   "execution_count": 12,
   "id": "130d6a44-4104-4845-8f79-84b2dfec0bc3",
   "metadata": {},
   "outputs": [
    {
     "name": "stdout",
     "output_type": "stream",
     "text": [
      "\n",
      "\n",
      "\u001b[1m> Entering new AgentExecutor chain...\u001b[0m\n",
      "\u001b[32;1m\u001b[1;3m I need to use the Python REPL to calculate this\n",
      "Action: Python_REPL\n",
      "Action Input: print(5.1 ** 7.3)\u001b[0m\n",
      "Observation: \u001b[36;1m\u001b[1;3m146306.05007233328\n",
      "\u001b[0m\n",
      "Thought:\u001b[32;1m\u001b[1;3m I now know the final answer\n",
      "Final Answer: 146306.05007233328\u001b[0m\n",
      "\n",
      "\u001b[1m> Finished chain.\u001b[0m\n"
     ]
    },
    {
     "data": {
      "text/plain": [
       "'146306.05007233328'"
      ]
     },
     "execution_count": 12,
     "metadata": {},
     "output_type": "execute_result"
    }
   ],
   "source": [
    "agent_executor.run(\"What is the answer to (5.1 ** 7.3)?\")"
   ]
  },
  {
   "cell_type": "code",
   "execution_count": null,
   "id": "bfacadd4-e8b2-4b26-8a40-c36cee571587",
   "metadata": {},
   "outputs": [],
   "source": []
  }
 ],
 "metadata": {
  "kernelspec": {
   "display_name": "Python 3 (ipykernel)",
   "language": "python",
   "name": "python3"
  },
  "language_info": {
   "codemirror_mode": {
    "name": "ipython",
    "version": 3
   },
   "file_extension": ".py",
   "mimetype": "text/x-python",
   "name": "python",
   "nbconvert_exporter": "python",
   "pygments_lexer": "ipython3",
   "version": "3.10.13"
  }
 },
 "nbformat": 4,
 "nbformat_minor": 5
}
