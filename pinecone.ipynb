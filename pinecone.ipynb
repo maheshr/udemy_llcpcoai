{
 "cells": [
  {
   "cell_type": "markdown",
   "id": "dbc3be9b-f734-4620-b594-3c0427ce63de",
   "metadata": {},
   "source": [
    "# Pinecone Indexes"
   ]
  },
  {
   "cell_type": "code",
   "execution_count": 1,
   "id": "cfe94163-3189-4957-9a46-1d489bc62cbc",
   "metadata": {},
   "outputs": [
    {
     "data": {
      "text/plain": [
       "True"
      ]
     },
     "execution_count": 1,
     "metadata": {},
     "output_type": "execute_result"
    }
   ],
   "source": [
    "import os\n",
    "from dotenv import load_dotenv, find_dotenv\n",
    "load_dotenv(find_dotenv(), override=True)"
   ]
  },
  {
   "cell_type": "code",
   "execution_count": 3,
   "id": "85c4c0f7-b10b-4f01-975a-69fa68af69d2",
   "metadata": {},
   "outputs": [],
   "source": [
    "import pinecone\n",
    "pinecone.init(\n",
    "    api_key=os.environ.get('PINECONE_API_KEY'),\n",
    "    environment=os.environ.get('PINECONE_ENV'))"
   ]
  },
  {
   "cell_type": "code",
   "execution_count": 4,
   "id": "53cc9d6d-ed61-4db9-99c1-bb359b68a263",
   "metadata": {},
   "outputs": [
    {
     "data": {
      "text/plain": [
       "VersionResponse(server='2.0.11', client='2.2.4')"
      ]
     },
     "execution_count": 4,
     "metadata": {},
     "output_type": "execute_result"
    }
   ],
   "source": [
    "pinecone.info.version()"
   ]
  },
  {
   "cell_type": "markdown",
   "id": "7bcf22b1-1370-4880-840a-ff7cbd65441a",
   "metadata": {},
   "source": [
    "### Pinecone Indexes"
   ]
  },
  {
   "cell_type": "code",
   "execution_count": null,
   "id": "835dc3b4-ad04-49d3-a6af-9789d35ba87b",
   "metadata": {},
   "outputs": [],
   "source": []
  }
 ],
 "metadata": {
  "kernelspec": {
   "display_name": "Python 3 (ipykernel)",
   "language": "python",
   "name": "python3"
  },
  "language_info": {
   "codemirror_mode": {
    "name": "ipython",
    "version": 3
   },
   "file_extension": ".py",
   "mimetype": "text/x-python",
   "name": "python",
   "nbconvert_exporter": "python",
   "pygments_lexer": "ipython3",
   "version": "3.10.13"
  }
 },
 "nbformat": 4,
 "nbformat_minor": 5
}
